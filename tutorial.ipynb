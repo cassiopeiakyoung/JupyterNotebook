{
 "cells": [
  {
   "cell_type": "markdown",
   "metadata": {},
   "source": [
    "# Jupyter notebook tutorial"
   ]
  },
  {
   "cell_type": "markdown",
   "metadata": {},
   "source": [
    "The purpose of this file is to provide a very brief tutorial on using the Jupyter notebook (on the school server) and the Python programming language and to confirm the proper installation of some Python packages / libraries.  If you wish to install it on your home computer, recommend using Anaconda (https://www.anaconda.com/download/), which has more features than the installation on the school server (due to technical limitations).  \n",
    "\n",
    "Recommend that you use this resource in lieu of a word processing software, a spreadsheet software, and a computer algebra system to prepare your lab report. This software is free and may be of benefit to students pursuing a college STEM major.\n",
    "\n",
    "<span style=\"background:yellow\">To generate boldface</span>, (example shown in the above cell)\n",
    "\n",
    "   enter content, then select: \"Heading\" mode for the cell in the above drop-down menu, then press \"Run\" -- both items are in      the above ribbon.\n",
    "\n",
    "<span style=\"background:yellow\">To add text</span>, \n",
    "\n",
    "   select the cell, then select \"Markdown\" in the above ribbon drop-down menu, then use your keyboard to enter text. As such,      this feature acts like a word processor.\n",
    "\n",
    "<span style=\"background:yellow\">To insert an equation</span>, (example shown in the below cell)\n",
    "\n",
    "   Use a LaTex generator (e.g. https://www.codecogs.com/latex/eqneditor.php), which has a similar user interface as an equation    editor in Word, to generate the \"code\" to display an equation, then insert this code between \"$$\"; e.g.  \n",
    "\n",
    "     $$y = \\int_{a}^{b}\\frac{4 x^{3}+5}{5x - 7}dx$$\n",
    "\n",
    "   into the cell; select \"Markdown\" mode for the cell, then select \"Run\".\n",
    "\n",
    "\n",
    "   source: https://stackoverflow.com/questions/13208286/how-to-write-latex-in-ipython-notebook"
   ]
  },
  {
   "cell_type": "markdown",
   "metadata": {},
   "source": [
    "$$y = \\int_{a}^{b}\\frac{4 x^{3}+5}{5x - 7}dx$$"
   ]
  },
  {
   "cell_type": "markdown",
   "metadata": {},
   "source": [
    "<span style=\"background:yellow\">To insert a table</span> (shown below; crude, but it works)\n",
    "     generate table using Word \n",
    "     use snipping tool to select table\n",
    "     select: insert cell below (in ribbon)\n",
    "     select: Markdown for cell (in ribbon)\n",
    "     paste into cell \n",
    "     press \"Run\"  (in ribbon)\n",
    "     \n",
    "     \n",
    "resource:  https://stackoverflow.com/questions/10628262/inserting-image-into-ipython-notebook-markdown"
   ]
  },
  {
   "attachments": {
    "image.png": {
     "image/png": "[encoded data removed]"
    }
   },
   "cell_type": "markdown",
   "metadata": {},
   "source": [
    "![image.png](attachment:image.png)"
   ]
  },
  {
   "cell_type": "code",
   "execution_count": 3,
   "metadata": {},
   "outputs": [
    {
     "name": "stdout",
     "output_type": "stream",
     "text": [
      "--------------------\n",
      "group1    group2\n",
      "--------------------\n",
      "1.50       3.4\n",
      "2.00       4.0\n",
      "5.00       6.0\n"
     ]
    }
   ],
   "source": [
    "# alternative method to insert a data table\n",
    "\n",
    "data=[\n",
    "    ['group1','group2'],\n",
    "    [1.5,3.4],\n",
    "    [2,4],\n",
    "    [5,6]\n",
    "]\n",
    "\n",
    "\n",
    "dash = '-' * 20\n",
    "\n",
    "for i in range(len(data)):\n",
    "    if i == 0:\n",
    "      print(dash)\n",
    "      print('{:<10s}{:>4s}'.format(data[i][0],data[i][1]))            # print data table column names\n",
    "      print(dash)\n",
    "    else:\n",
    "      print('{:<10.2f}{:>4.1f}'.format(data[i][0],data[i][1]))        # print data\n",
    "\n",
    "\n",
    "#  resource:  https://scientificallysound.org/2016/10/17/python-print3/"
   ]
  },
  {
   "cell_type": "markdown",
   "metadata": {},
   "source": [
    "<span style=\"background:yellow\">To insert an equation</span> (shown below; crude, but it works and is an alternative to the preceding method using LaTex) similar to above, but use Word's equation editor to generate the equation"
   ]
  },
  {
   "attachments": {
    "image.png": {
     "image/png": "[encoded data removed]"
    }
   },
   "cell_type": "markdown",
   "metadata": {},
   "source": [
    "![image.png](attachment:image.png)"
   ]
  },
  {
   "cell_type": "markdown",
   "metadata": {},
   "source": [
    "<span style=\"background:yellow\">To insert super- or sub- script</span>, use corresponding html code; e.g.\n",
    "\n",
    "$<sup>3</sup>H<sub>2</sub>O$  (output shown below)\n",
    "\n",
    "where you are working in \"Markdown\" mode, then press \"Run\"\n",
    "\n",
    "example: <sup>3</sup>H<sub>2</sub>O\n",
    "\n",
    "as such, use html code for various formatting options (e.g. see use of yellow high-lighting of text;  $<span style=\"background:yellow\">$ text $</span>$)\n",
    "\n",
    "In the above / below cells, the \"#\" symbol identifies comments and is not code.  \n",
    "\n",
    "While there some URL for additional information in this document, fee free to look for more online content. \n",
    "\n",
    "An examination of the example Python code in this tutorial, the various links, and your experimentation of modifying the code should provide sufficient knowledge to use this tool."
   ]
  },
  {
   "cell_type": "code",
   "execution_count": 4,
   "metadata": {},
   "outputs": [
    {
     "name": "stdout",
     "output_type": "stream",
     "text": [
      "if you see this message, then Python was installed successfully\n"
     ]
    }
   ],
   "source": [
    "# to test Python installation\n",
    "\n",
    "print(\"if you see this message, then Python was installed successfully\")"
   ]
  },
  {
   "cell_type": "markdown",
   "metadata": {},
   "source": [
    "### sample code to test installation of various packages / libraries"
   ]
  },
  {
   "cell_type": "markdown",
   "metadata": {},
   "source": [
    "Also, provide brief tutorials in use of these various packages / libraries.  The packages are:\n",
    "\n",
    "1. scipy: a scientific computation package\n",
    "       correlated-sample t-test\n",
    "       independent-sample t-test\n",
    "2. sympy:  a computer algebra package\n",
    "       solve: general quadratic equation\n",
    "       solve: specific quadratic equation\n",
    "       expand: (x+y)^2\n",
    "       find the derivative\n",
    "3. matlablib:  ploting package\n",
    "       scatter plot\n",
    "4. use mulitple packages / other\n",
    "       linear regression: show data & best-fit line (use scipy, numpy, & matlablib)\n",
    "       transform data, then plot\n",
    "       mean & SD\n",
    "\n",
    "<span style=\"background:yellow\">to do</span>:\n",
    "\n",
    "1-anova & Tukey test"
   ]
  },
  {
   "cell_type": "markdown",
   "metadata": {},
   "source": [
    "### 1.  scipy: a scientific computation package"
   ]
  },
  {
   "cell_type": "code",
   "execution_count": 45,
   "metadata": {},
   "outputs": [],
   "source": [
    "# to test scipy (i.e. scientific computating) package /library installation\n",
    "\n",
    "\n",
    "from scipy import *     # get all content in scipy\n",
    "\n",
    "sample_1 = (5, 7, 9)    # entering data for subsequent analysis; free feel to change its content, then examine effect on  \n",
    "sample_2 = (8, 9, 12)   # subsequent output. to \"enter\" this data, select \"Run\" in the above ribbon.\n",
    "\n",
    "\n",
    "# source:  \n",
    "#    https://docs.scipy.org/doc/scipy/reference/generated/scipy.stats.ttest_rel.html  (for paired-sample t-test) \n",
    "#    https://docs.scipy.org/doc/scipy-0.15.1/reference/generated/scipy.stats.ttest_ind.html  (for unpaired-sample t-test)"
   ]
  },
  {
   "cell_type": "code",
   "execution_count": 47,
   "metadata": {},
   "outputs": [
    {
     "name": "stdout",
     "output_type": "stream",
     "text": [
      "example 1.  correlated sample t-test; 2-tail p-value\n"
     ]
    },
    {
     "data": {
      "image/png": "[encoded data removed]",
      "text/latex": [
       "$$\\left ( -7.999999999999999, \\quad 0.015268072165338143\\right )$$"
      ],
      "text/plain": [
       "Ttest_relResult(statistic=-7.999999999999999, pvalue=0.015268072165338143)"
      ]
     },
     "execution_count": 47,
     "metadata": {},
     "output_type": "execute_result"
    }
   ],
   "source": [
    "print(\"example 1.  correlated sample t-test; 2-tail p-value\")\n",
    "stats.ttest_rel(sample_1,sample_2)"
   ]
  },
  {
   "cell_type": "code",
   "execution_count": 48,
   "metadata": {},
   "outputs": [
    {
     "name": "stdout",
     "output_type": "stream",
     "text": [
      "example 2.  independent sample t-test; 2-tail p-value\n"
     ]
    },
    {
     "data": {
      "image/png": "[encoded data removed]",
      "text/latex": [
       "$$\\left ( -1.5999999999999996, \\quad 0.1848491452643487\\right )$$"
      ],
      "text/plain": [
       "Ttest_indResult(statistic=-1.5999999999999996, pvalue=0.1848491452643487)"
      ]
     },
     "execution_count": 48,
     "metadata": {},
     "output_type": "execute_result"
    }
   ],
   "source": [
    "print(\"example 2.  independent sample t-test; 2-tail p-value\")\n",
    "stats.ttest_ind(sample_1,sample_2)"
   ]
  },
  {
   "cell_type": "markdown",
   "metadata": {},
   "source": [
    "### 2. sympy:  a computer algebra package"
   ]
  },
  {
   "cell_type": "code",
   "execution_count": 17,
   "metadata": {},
   "outputs": [],
   "source": [
    "# to test sympy (i.e. CAS) package / library installation\n",
    "\n",
    "from sympy import *                   # get all content in sympy\n",
    "x,y,a,b,c = symbols('x y a b c')      # must define variables prior to use\n",
    "\n",
    "# below code is to improve print quality of program output; remove this code, then run subsequent code to view its effect\n",
    "\n",
    "init_printing()                        \n",
    "                                     \n",
    "\n",
    "# source:  \n",
    "#    https://minireference.com/static/tutorials/sympy_tutorial.pdf ;  \n",
    "#    https://github.com/sympy/sympy/wiki/Tutorial"
   ]
  },
  {
   "cell_type": "code",
   "execution_count": 30,
   "metadata": {},
   "outputs": [
    {
     "name": "stdout",
     "output_type": "stream",
     "text": [
      "example 1. solve ax^2 + bx + c = 0; should get quadratic formula\n"
     ]
    },
    {
     "data": {
      "text/latex": [
       "$$\\left [ \\frac{1}{2 a} \\left(- b + \\sqrt{- 4 a c + b^{2}}\\right), \\quad - \\frac{1}{2 a} \\left(b + \\sqrt{- 4 a c + b^{2}}\\right)\\right ]$$"
      ],
      "text/plain": [
       "⎡        _____________   ⎛       _____________⎞ ⎤\n",
       "⎢       ╱           2    ⎜      ╱           2 ⎟ ⎥\n",
       "⎢-b + ╲╱  -4⋅a⋅c + b    -⎝b + ╲╱  -4⋅a⋅c + b  ⎠ ⎥\n",
       "⎢─────────────────────, ────────────────────────⎥\n",
       "⎣         2⋅a                     2⋅a           ⎦"
      ]
     },
     "execution_count": 30,
     "metadata": {},
     "output_type": "execute_result"
    }
   ],
   "source": [
    "print(\"example 1. solve ax^2 + bx + c = 0; should get quadratic formula\")\n",
    "solve(a*x**2 + b*x + c,x)"
   ]
  },
  {
   "cell_type": "code",
   "execution_count": 31,
   "metadata": {},
   "outputs": [
    {
     "name": "stdout",
     "output_type": "stream",
     "text": [
      "example 2. (2x+3)(x-5) = 2x^2 - 7x - 15 = 0\n"
     ]
    },
    {
     "data": {
      "text/latex": [
       "$$\\left [ - \\frac{3}{2}, \\quad 5\\right ]$$"
      ],
      "text/plain": [
       "[-3/2, 5]"
      ]
     },
     "execution_count": 31,
     "metadata": {},
     "output_type": "execute_result"
    }
   ],
   "source": [
    "print(\"example 2. (2x+3)(x-5) = 2x^2 - 7x - 15 = 0\")\n",
    "solve(2*x**2 -7*x -15,x)"
   ]
  },
  {
   "cell_type": "code",
   "execution_count": 32,
   "metadata": {},
   "outputs": [
    {
     "name": "stdout",
     "output_type": "stream",
     "text": [
      "example 3. expand (x + 2y)^2\n"
     ]
    },
    {
     "data": {
      "text/latex": [
       "$$x^{2} + 4 x y + 4 y^{2}$$"
      ],
      "text/plain": [
       " 2              2\n",
       "x  + 4⋅x⋅y + 4⋅y "
      ]
     },
     "execution_count": 32,
     "metadata": {},
     "output_type": "execute_result"
    }
   ],
   "source": [
    "print(\"example 3. expand (x + 2y)^2\")\n",
    "expand((x + 2*y)**2)"
   ]
  },
  {
   "cell_type": "code",
   "execution_count": 19,
   "metadata": {},
   "outputs": [
    {
     "name": "stdout",
     "output_type": "stream",
     "text": [
      "example 4.  find the derivative \n"
     ]
    },
    {
     "data": {
      "image/png": "[encoded data removed]",
      "text/latex": [
       "$$12 x^{2} + 5$$"
      ],
      "text/plain": [
       "    2    \n",
       "12⋅x  + 5"
      ]
     },
     "execution_count": 19,
     "metadata": {},
     "output_type": "execute_result"
    }
   ],
   "source": [
    "print(\"example 4.  find the derivative \")\n",
    "diff(4*x**3 + 5*x, x)"
   ]
  },
  {
   "cell_type": "markdown",
   "metadata": {},
   "source": [
    "### 3. matlablib:  ploting package"
   ]
  },
  {
   "cell_type": "code",
   "execution_count": 131,
   "metadata": {},
   "outputs": [
    {
     "data": {
      "image/png": "[encoded data removed]",
      "text/plain": [
       "<Figure size 432x288 with 1 Axes>"
      ]
     },
     "metadata": {
      "needs_background": "light"
     },
     "output_type": "display_data"
    }
   ],
   "source": [
    "# to test matplotlib package / library installation\n",
    "# generate a scatter plot\n",
    "\n",
    "import matplotlib.pyplot as plt\n",
    "\n",
    "# data for y = x^2\n",
    "x_values=[2,4,6,8,10]\n",
    "y_values=[4,16,36,64,100]\n",
    "\n",
    "plt.scatter(x_values,y_values, marker=\"x\")\n",
    "\n",
    "plt.xlim(0,11)                                   # set x-axis range\n",
    "plt.ylim(-10,110)                                # set y-axis range\n",
    "\n",
    "plt.xlabel(\"x-axis\", fontsize=25)                # label x-axis title & its font size\n",
    "plt.ylabel(\"y-axis\")                             # label y-axis title\n",
    "\n",
    "plt.tick_params(labelsize=5)                     # set axis number font size\n",
    "\n",
    "plt.title(\"test graph\")                          # set graph title\n",
    "\n",
    "plt.show() "
   ]
  },
  {
   "cell_type": "markdown",
   "metadata": {},
   "source": [
    "### 4. use multiple packages"
   ]
  },
  {
   "cell_type": "code",
   "execution_count": 3,
   "metadata": {},
   "outputs": [
    {
     "name": "stdout",
     "output_type": "stream",
     "text": [
      "r-squared: 0.9895877009084557\n",
      "slope =  2.38\n",
      "y-intercept =  4.550000000000001\n"
     ]
    },
    {
     "data": {
      "image/png": "[encoded data removed]",
      "text/plain": [
       "<Figure size 432x288 with 1 Axes>"
      ]
     },
     "metadata": {
      "needs_background": "light"
     },
     "output_type": "display_data"
    }
   ],
   "source": [
    "# do linear regression; show data points & best-fit line\n",
    "\n",
    "import matplotlib.pyplot as plt\n",
    "from scipy import stats\n",
    "import numpy as np\n",
    "\n",
    "x = [1,2,3,4]\n",
    "y = [7.1,8.9,12,14]\n",
    "\n",
    "slope, intercept, r_value, p_value, std_err = stats.linregress(x, y)\n",
    "\n",
    "print(\"r-squared:\", r_value**2)\n",
    "print(\"slope = \", slope)\n",
    "print(\"y-intercept = \", intercept)\n",
    "\n",
    "plt.scatter(x, y)\n",
    "plt.plot(x, intercept + slope*(np.float_(x)))\n",
    "\n",
    "plt.show()\n",
    "\n",
    "# references: \n",
    "# https://medium.freecodecamp.org/data-science-with-python-8-ways-to-do-linear-regression-and-measure-their-speed-b5577d75f8b\n",
    "# https://stackoverflow.com/questions/1614236/in-python-how-do-i-convert-all-of-the-items-in-a-list-to-floats\n",
    "# to fit to y = mx (rather than y = mx + b); see:  \n",
    "# https://stackoverflow.com/questions/25289122/scipy-linregress-computing-only-scaling-slope-parameter-with-intercept-fixed-at"
   ]
  },
  {
   "cell_type": "code",
   "execution_count": 14,
   "metadata": {},
   "outputs": [
    {
     "name": "stdout",
     "output_type": "stream",
     "text": [
      "square = [  1.   9.  25.  49.  64. 100.]\n"
     ]
    },
    {
     "data": {
      "image/png": "[encoded data removed]",
      "text/plain": [
       "<Figure size 432x288 with 1 Axes>"
      ]
     },
     "metadata": {
      "needs_background": "light"
     },
     "output_type": "display_data"
    }
   ],
   "source": [
    "# transform data, then plot\n",
    "\n",
    "import numpy as np\n",
    "import matplotlib.pyplot as plt\n",
    "\n",
    "sample = [1,3,5,7,8,10]\n",
    "y=(np.float_(sample))**2                   # convert from 'string' to (floating point) 'number'; otherwise, error\n",
    "\n",
    "print(\"square =\", y)\n",
    "\n",
    "plt.scatter(sample,y)\n",
    "plt.show()"
   ]
  },
  {
   "cell_type": "code",
   "execution_count": 1,
   "metadata": {},
   "outputs": [
    {
     "name": "stdout",
     "output_type": "stream",
     "text": [
      "data entered; sample =  [1, 3, 6]\n",
      "\n",
      "\tmean = 3.333\n",
      "\tsd = 2.517\n"
     ]
    }
   ],
   "source": [
    "# find mean and standard deviation of sample\n",
    "\n",
    "from statistics import *\n",
    "\n",
    "sample = [1,3,6]\n",
    "\n",
    "x=round(mean(sample),3)                           # note use of truncating digits in answer\n",
    "sd=round(stdev(sample),3)\n",
    "\n",
    "print(\"data entered; sample = \", sample)\n",
    "print()\n",
    "print(\"\\tmean =\",x)                                # note use of 'tab' command\n",
    "print(\"\\tsd =\", sd)\n",
    "\n",
    "# resource:  \n",
    "# https://docs.python.org/3/library/statistics.html\n",
    "# https://gist.github.com/jackiekazil/6201722"
   ]
  },
  {
   "cell_type": "code",
   "execution_count": null,
   "metadata": {},
   "outputs": [],
   "source": []
  }
 ],
 "metadata": {
  "kernelspec": {
   "display_name": "Python 3",
   "language": "python",
   "name": "python3"
  },
  "language_info": {
   "codemirror_mode": {
    "name": "ipython",
    "version": 3
   },
   "file_extension": ".py",
   "mimetype": "text/x-python",
   "name": "python",
   "nbconvert_exporter": "python",
   "pygments_lexer": "ipython3",
   "version": "3.7.0"
  }
 },
 "nbformat": 4,
 "nbformat_minor": 2
}
