{
 "cells": [
  {
   "cell_type": "markdown",
   "metadata": {},
   "source": [
    "# Jupyter notebook tutorial "
   ]
  },
  {
   "cell_type": "markdown",
   "metadata": {},
   "source": [
    "<b>Instructions</b><p>\n",
    "    1.  open / setup a new Jupyter notebook file (or use the Google colaboratory website).\n",
    "    2.  copy the content of the below excercises into the new Juypter notebook file.\n",
    "    3.  do the exercises in this file; i.e. show your work / code / answers / output to these exercises.\n",
    "    4.  print and turn-in this assignment for 1 extra credit percent point on your course grade (fall semester only).\n",
    "    5.  prepare a lab report, where use at least one Python package / library earns you 1 extra credit percent point.\n",
    "    6. may do up to two lab reports (per semester); thus, there's the potential to earn up to 3 extra credit percent points; e.g. if your current course score = 87% = B, earning 3 extra credit percent points, your course score = 90% = A.\n",
    "    7.  while you should not \"copy\" your classmate's work, you are welcome to \"consulate\" your classmate on some, not all, of the below exercises."
   ]
  },
  {
   "cell_type": "markdown",
   "metadata": {},
   "source": [
    "<b>table of content</b>\n",
    "\n",
    "&nbsp; &nbsp;introduction <p>\n",
    "&nbsp; &nbsp; inserting text -- Markdown mode<p>\n",
    "&nbsp; &nbsp;&nbsp; &nbsp; use html tags / special characters <p>\n",
    "&nbsp; &nbsp;&nbsp; &nbsp; insert equation using LaTex<p>\n",
    "&nbsp; &nbsp; inserting Python commands -- Code mode<p>\n",
    "&nbsp; &nbsp;&nbsp; &nbsp; print command and simple math operations<p>\n",
    "&nbsp; &nbsp;&nbsp; &nbsp; insert a table <p>\n",
    "&nbsp; &nbsp;&nbsp; &nbsp; use of Python packages / libraries<p>\n",
    "      1. scipy: a scientific computation package\n",
    "         correlated-sample t-test\n",
    "         independent-sample t-test\n",
    "      2. sympy:  a computer algebra package\n",
    "         solve: general quadratic equation\n",
    "         solve: specific quadratic equation\n",
    "         expand: (x+y)^2\n",
    "         find the derivative\n",
    "      3. matlablib:  ploting package\n",
    "         scatter plot\n",
    "      4. use mulitple packages / other\n",
    "         linear regression: show data & best-fit line (use scipy, numpy, & matlablib)\n",
    "         transform data, then plot  (use matlablib & numpy)\n",
    "         mean & SD (use statistics)"
   ]
  },
  {
   "cell_type": "markdown",
   "metadata": {},
   "source": [
    "<b>introduction</b>  This interactive notebook contain cells with text, code, heading, or empty cells, where you can explore various features of the Jupyter notebook or Python programming language.  \n",
    "\n",
    "The Phython programming language is installed in the Juypter notebook by default.  The installation / use of any other programming language in the Juypter notebook is beyond the scope of this assignment.\n",
    "\n",
    "Recommend that you read the readme <a href=\"http://chem-is-try.us/class/honors/supplement/juypter%20notebook/readme.docx\">file</a> prior to working on this tutorial.\n",
    "\n",
    "The Juypter notebook is organized into cells, where you would usually either enter text (select: Markdown in the drop-down menu in the above ribbon) or Python programming language elements (default). \n",
    "\n",
    "The function of the various icons in the above ribbon can be determined by hovering your cursor near the icon.\n",
    "\n",
    "<span style=\"background:yellow\">To edit the content in a cell, double click on the cell.</span><p>\n",
    "<span style=\"background:yellow\">The content in a cell with the \"Markdown\" mode selected for a cell will be text</span>, i.e. non-Python programming language elements.  The html code / tag can be used to alter the content in a text, where a list of potential tags are shown below."
   ]
  },
  {
   "cell_type": "markdown",
   "metadata": {},
   "source": [
    "<b>use html tags / special characters</b>\n"
   ]
  },
  {
   "cell_type": "markdown",
   "metadata": {},
   "source": [
    "   html tags; e.g. ___; more ?; e.g. https://www.w3schools.com/tags/\n",
    "   \n",
    "     superscript = <sup>  text </sup>\n",
    "     subscript = <sub> text </sub>\n",
    "     underline = <u> text </u>\n",
    "     yellow high-light = <span style=\"background:yellow\"> text </span>\n",
    "     red font = <font color=\"red\">  text  <font>\n",
    "     italics = <i> text </i>\n",
    "     boldface = <b> text </b>\n",
    "     font size = <font size =10> text </font>\n",
    "     strike thru = <strike> text </strike>\n",
    "   \n",
    "   special html characters; e.g. ___; more ?; e.g. https://www.rapidtables.com/web/html/html-codes.html\n",
    "   \n",
    "     right pointing arrow =  &rarr;\n",
    "     left pointing arrow = &larr; \n",
    "     degree = &deg;\n",
    "     upper-case delta = &Delta;\n",
    "     lower case micro = &micro;\n",
    "     plus / minus symbol= &plusmn;\n",
    "     approximately = &asymp;\n",
    "     empty space = &nbsp;\n",
    "     end / start paragraph = <p> ;  while unconventional, it works\n",
    "   \n",
    "   \n",
    "then press the \"Run\" icon in the above ribbon to format the text (in Markdown mode) accordinlgy. Also,\n",
    "\n",
    "  to start a new paragraph = press the \"return\" key (without using \"Run\"; otherwise use $<p>$)<p>\n",
    "  to indent = press the \"space bar\" key (without using \"Run\"; otherwise use multiple $&nbsp;$ )\n",
    "\n",
    "<font color=\"red\"><i>exercise 1.</i></font>Use the below empty cell to explore these html tags; e.g. (i) write the chemical formula for water & carbon-14, (ii) the chemical reaction for the synthesis of ammonia from hydrogen and nitrogen, and (iii) vary font size / boldface text.  Start each output on a separate line."
   ]
  },
  {
   "cell_type": "markdown",
   "metadata": {},
   "source": []
  },
  {
   "cell_type": "markdown",
   "metadata": {},
   "source": [
    "In this section, you will explore writing an equation, which will occur in preparing your lab report.  <b>To insert an equation</b>, use a LaTex generator (e.g. https://www.codecogs.com/latex/eqneditor.php ), which has a similar user interface as an equation editor in Word, to generate the \"code\" to display an equation, then insert this code between \"$$\" or \"$\"; e.g.\n",
    "\n",
    "    $$y = \\int_{a}^{b}\\frac{4 x^{3}+5}{5x - 7}dx$$  =  enters equation alone; with no nearby text\n",
    " \n",
    "    $y = \\int_{a}^{b}\\frac{4 x^{3}+5}{5x - 7}dx$  =  enters equation at this location in the text\n",
    " \n",
    "into the cell; select \"Markdown\" mode for the cell, then select \"Run\". \n",
    "\n",
    "<font color=\"red\"><i>exercise 2.</i> </font> Use the below empty cell to explore the generation of an equation using the LaTex generator."
   ]
  },
  {
   "cell_type": "markdown",
   "metadata": {},
   "source": []
  },
  {
   "cell_type": "markdown",
   "metadata": {},
   "source": [
    "<b>Introduction to the Python computer programming language</b><p>\n",
    "As your first experience in using the Python programming language, use the below empty cell to explore the <b>print</b> command, which can be used to label the output of the Python code, which would be written in a cell, where you select \"Code\" in the above drop-down menu. Alternatively, use \"Markdown\" mode / text to describe the output of the Python code.\n",
    "\n",
    "&nbsp; &nbsp; ex1. print a statement\n",
    "\n",
    "&nbsp; &nbsp;  &nbsp; print(\"blah blah\")\n",
    "\n",
    "&nbsp; &nbsp; ex2.  define a variable, then print its value<p>\n",
    "\n",
    "&nbsp; &nbsp;  &nbsp; a = 5 <p>\n",
    "&nbsp; &nbsp;  &nbsp; print (\"a= \", a)<p>\n",
    "&nbsp; &nbsp;  &nbsp; print(\"a= \",a, \"dogs\")\n",
    "        \n",
    "\n",
    "The <span style=\"background:yellow\">\"#\" symbol</span> in the Python programming language is to identify a comment; it is ignored in running the code and used to describe the section of the code, which might be useful in the future, when the code is to be revised.  <span style=\"background:yellow\">Use \"Code\" mode (selected from the drop-down menu in the above ribbon), whenever you are writing any Python code.</span>  The below cell is an example of using the remark / comment feature in a Python code and  illustrates the <i>print</i> command and some arithmetic operations. "
   ]
  },
  {
   "cell_type": "code",
   "execution_count": 27,
   "metadata": {},
   "outputs": [
    {
     "name": "stdout",
     "output_type": "stream",
     "text": [
      "ab=  3\n",
      "a^b = 1\n",
      "a/b = 0.3333333333333333\n",
      "a+b = 4\n",
      "a-b =  -2\n"
     ]
    }
   ],
   "source": [
    "# explore using various arithmetic operations involving two numbers including the use of parenthesis to reflect order of operation\n",
    "\n",
    "a = 1 \n",
    "b = 3\n",
    "        \n",
    "print(\"ab= \", a*b)               # multiplication\n",
    "print(\"a^b =\", a**b)             # exponent\n",
    "print(\"a/b =\", a/b)              # division\n",
    "print(\"a+b =\", a + b)            # addition\n",
    "print(\"a-b = \", a - b)           # subtraction\n"
   ]
  },
  {
   "cell_type": "markdown",
   "metadata": {},
   "source": [
    "  <font color=\"red\"> <i>exercise 3.</i> </font>  Use the below empty cell to explore the features in the print command and the preceding arithmetic operations."
   ]
  },
  {
   "cell_type": "code",
   "execution_count": null,
   "metadata": {},
   "outputs": [],
   "source": []
  },
  {
   "cell_type": "markdown",
   "metadata": {},
   "source": [
    "Tables maybe used in your lab report as a data table of your experimental measurements or input for a statistical analysis. While using html code in \"Markdown\" mode, can be used to generate a table, it should be much easier to use Python.   <b>To insert a table</b>, you'll write some Python code; the below cell provides an example code.  "
   ]
  },
  {
   "cell_type": "code",
   "execution_count": 2,
   "metadata": {},
   "outputs": [
    {
     "name": "stdout",
     "output_type": "stream",
     "text": [
      "--------------------\n",
      "group1    group2\n",
      "--------------------\n",
      "1.50       3.4\n",
      "2.00       4.0\n",
      "5.00       6.0\n"
     ]
    }
   ],
   "source": [
    "data=[\n",
    "    ['group1','group2'],\n",
    "    [1.5,3.4],\n",
    "    [2,4],\n",
    "    [5,6]\n",
    "]\n",
    "\n",
    "\n",
    "dash = '-' * 20\n",
    "\n",
    "for i in range(len(data)):\n",
    "    if i == 0:\n",
    "      print(dash)\n",
    "      print('{:<10s}{:>4s}'.format(data[i][0],data[i][1]))            # print data table column names\n",
    "      print(dash)\n",
    "    else:\n",
    "      print('{:<10.2f}{:>4.1f}'.format(data[i][0],data[i][1]))        # print data\n",
    "\n",
    "\n",
    "#  resource:  https://scientificallysound.org/2016/10/17/python-print3/"
   ]
  },
  {
   "cell_type": "markdown",
   "metadata": {},
   "source": [
    "<font color=\"red\"><i> exercise 4.</i> </font> Based on the above example code, use the below empty cell to generate a data table with; e.g.\n",
    "\n",
    "   &nbsp; &nbsp; change the values of the data in the table<p>\n",
    "   &nbsp; &nbsp; add more rows of data <p>\n",
    "   &nbsp; &nbsp; change the title of the column in the table<p>\n",
    "   &nbsp; &nbsp; add more columns of data<p>\n",
    "\n",
    "to explore its behavior, then press the \"Run\" icon in the above ribbon to see the output of the code.  Repeat with further code modifications, then run the code  --- to continue your exploration to generate a table using the Python programming language, which might be useful as a data table in your lab report."
   ]
  },
  {
   "cell_type": "code",
   "execution_count": null,
   "metadata": {},
   "outputs": [],
   "source": []
  },
  {
   "cell_type": "markdown",
   "metadata": {},
   "source": [
    "<b>Use of Python packages / libraries</b>\n",
    "\n",
    "The reminder of this tutorial involves using various Python packages / libraries, which can emulate / replace the features in a spreadsheet and computer algebra software; i.e. Excel and Mathematica, respectively.  These libraries can be used in data analysis section of your lab report or as an aid in doing tedious homework calculations and it simplifies developing Python programs."
   ]
  },
  {
   "cell_type": "markdown",
   "metadata": {},
   "source": [
    "<b>scipy: a scientific computation package</b><p> \n",
    "&nbsp; &nbsp; correlated-sample t-test<p>\n",
    "&nbsp; &nbsp; independent-sample t-test<p>\n",
    "    \n",
    "The below cells show an example of using the <a href=\"https://docs.scipy.org/doc/scipy/reference/tutorial/index.html\">scipy</a> Python package / library.  Note that the second cell took advantage of the first cell's \"library import\"; thus, there is no need to import a library / package if there was a prior import. "
   ]
  },
  {
   "cell_type": "code",
   "execution_count": 25,
   "metadata": {},
   "outputs": [
    {
     "name": "stdout",
     "output_type": "stream",
     "text": [
      "example 1.  correlated sample t-test; 2-tail p-value\n"
     ]
    },
    {
     "data": {
      "text/plain": [
       "Ttest_relResult(statistic=-7.999999999999999, pvalue=0.015268072165338143)"
      ]
     },
     "execution_count": 25,
     "metadata": {},
     "output_type": "execute_result"
    }
   ],
   "source": [
    "from scipy import stats     # get content in scipy\n",
    "\n",
    "sample_1 = (5, 7, 9)    # entering data for subsequent analysis; free feel to change its content, then examine effect on  \n",
    "sample_2 = (8, 9, 12)   # subsequent output. to \"enter\" this data, select \"Run\" in the above ribbon.\n",
    "\n",
    "print(\"example 1.  correlated sample t-test; 2-tail p-value\")\n",
    "stats.ttest_rel(sample_1,sample_2)\n",
    "\n",
    "\n",
    "# resource:  \n",
    "#    https://docs.scipy.org/doc/scipy/reference/generated/scipy.stats.ttest_rel.html  (for paired-sample t-test) "
   ]
  },
  {
   "cell_type": "code",
   "execution_count": 31,
   "metadata": {},
   "outputs": [
    {
     "name": "stdout",
     "output_type": "stream",
     "text": [
      "example 2.  independent sample t-test; 2-tail p-value\n",
      "\tvalue of t-statistic =  -1.6\n",
      "\tpvalue =  0.184849\n"
     ]
    }
   ],
   "source": [
    "print(\"example 2.  independent sample t-test; 2-tail p-value\")\n",
    "statistic, pvalue=stats.ttest_ind(sample_1,sample_2)             # defines / gets select output from ttest command\n",
    "\n",
    "print(\"\\tvalue of t-statistic = \", round(statistic,6))           # the symbol, \\t, inserts a tab\n",
    "print(\"\\tpvalue = \", round(pvalue,6))                            # round output\n",
    "\n",
    "# resource\n",
    "#    https://docs.scipy.org/doc/scipy-0.15.1/reference/generated/scipy.stats.ttest_ind.html  (for unpaired-sample t-test)\n",
    "#    https://www.programiz.com/python-programming/methods/built-in/round"
   ]
  },
  {
   "cell_type": "markdown",
   "metadata": {},
   "source": [
    "<font color=\"red\"><i> exercise 5.</i> </font>  Based on the above example code and the information in the below cell, use the below empty cell to generate:"
   ]
  },
  {
   "cell_type": "markdown",
   "metadata": {},
   "source": [
    "i.  data table; include column titles\n",
    "\n",
    "  control    experimental\n",
    "     120            120\n",
    "     125            140\n",
    "      95             80\n",
    "     105            102\n",
    "\n",
    "ii. use the correlated-sample t-test and independent-sample t-test, where you generate the 2-tail p-value, label it, and round to 4 digits."
   ]
  },
  {
   "cell_type": "code",
   "execution_count": null,
   "metadata": {},
   "outputs": [],
   "source": []
  },
  {
   "cell_type": "markdown",
   "metadata": {},
   "source": [
    "<b>sympy:  a computer algebra package</b><p>\n",
    "    \n",
    "&nbsp; &nbsp; solve: general quadratic equation<p>\n",
    "&nbsp; &nbsp; solve: specific quadratic equation<p>\n",
    "&nbsp; &nbsp; solve: another quadratic equation - acid equilibrium problem<p>\n",
    "&nbsp; &nbsp; expand: (x+y)^2<p>\n",
    "&nbsp; &nbsp; find the derivative<p>\n",
    "    \n",
    "read the comments / remarks in the below code to improve your understanding of the code.  \n",
    "\n",
    "Unlike a mere calculator, a computer algebra system can do \"algebra / mathematics\"; e.g. it can find the solutions to various mathematical equations, where the solution has a numeric value or is expressed using symbols / variables, which is a potentialy useful tool in solving e.g. homework problems.  The below cells show some of the <a href=\"https://docs.sympy.org/latest/modules/index.html\">features</a> in the Python package / library, sympy."
   ]
  },
  {
   "cell_type": "code",
   "execution_count": 54,
   "metadata": {},
   "outputs": [
    {
     "name": "stdout",
     "output_type": "stream",
     "text": [
      "example 1. solve ax^2 + bx + c = 0 ;  note that it's not a numeric answer.\n"
     ]
    },
    {
     "data": {
      "image/png": "[encoded data removed]",
      "text/latex": [
       "$$\\left [ \\frac{1}{2 a} \\left(- b + \\sqrt{- 4 a c + b^{2}}\\right), \\quad - \\frac{1}{2 a} \\left(b + \\sqrt{- 4 a c + b^{2}}\\right)\\right ]$$"
      ],
      "text/plain": [
       "⎡        _____________   ⎛       _____________⎞ ⎤\n",
       "⎢       ╱           2    ⎜      ╱           2 ⎟ ⎥\n",
       "⎢-b + ╲╱  -4⋅a⋅c + b    -⎝b + ╲╱  -4⋅a⋅c + b  ⎠ ⎥\n",
       "⎢─────────────────────, ────────────────────────⎥\n",
       "⎣         2⋅a                     2⋅a           ⎦"
      ]
     },
     "execution_count": 54,
     "metadata": {},
     "output_type": "execute_result"
    }
   ],
   "source": [
    "from sympy import *                   # get all content in sympy\n",
    "x,y,a,b,c = symbols('x y a b c')      # must define variables prior to use\n",
    "\n",
    "# below code is to improve print quality of program output; remove this code, then run subsequent code to view its effect\n",
    "\n",
    "init_printing()                        \n",
    "                                     \n",
    "\n",
    "# source:  \n",
    "#    https://minireference.com/static/tutorials/sympy_tutorial.pdf   \n",
    "#    https://github.com/sympy/sympy/wiki/Tutorial\n",
    "\n",
    "print(\"example 1. solve ax^2 + bx + c = 0 ;  note that it's not a numeric answer.\")\n",
    "solve(a*x**2 + b*x + c,x)\n"
   ]
  },
  {
   "cell_type": "code",
   "execution_count": 52,
   "metadata": {},
   "outputs": [
    {
     "name": "stdout",
     "output_type": "stream",
     "text": [
      "example 2. solve (3x+2)(x-5) = 3x^2 - 13x - 10 = 0\n"
     ]
    },
    {
     "data": {
      "image/png": "[encoded data removed]",
      "text/latex": [
       "$$\\left [ - \\frac{2}{3}, \\quad 5\\right ]$$"
      ],
      "text/plain": [
       "[-2/3, 5]"
      ]
     },
     "execution_count": 52,
     "metadata": {},
     "output_type": "execute_result"
    }
   ],
   "source": [
    "print(\"example 2. solve (3x+2)(x-5) = 3x^2 - 13x - 10 = 0\")\n",
    "solve(3*x**2 -13*x -10,x)"
   ]
  },
  {
   "cell_type": "code",
   "execution_count": 59,
   "metadata": {},
   "outputs": [
    {
     "name": "stdout",
     "output_type": "stream",
     "text": [
      "example 3. solve weak acid equilibrium problem\n"
     ]
    },
    {
     "data": {
      "image/png": "[encoded data removed]",
      "text/latex": [
       "$$\\left [ -0.00135067097307797, \\quad 0.00133267097307797\\right ]$$"
      ],
      "text/plain": [
       "[-0.00135067097307797, 0.00133267097307797]"
      ]
     },
     "execution_count": 59,
     "metadata": {},
     "output_type": "execute_result"
    }
   ],
   "source": [
    "print(\"example 3. solve weak acid equilibrium problem\")\n",
    "solve(1.8*10**-5 - (x**2)/(0.1-x),x)"
   ]
  },
  {
   "cell_type": "code",
   "execution_count": 8,
   "metadata": {},
   "outputs": [
    {
     "name": "stdout",
     "output_type": "stream",
     "text": [
      "example 4. expand (x + 2y)^2\n"
     ]
    },
    {
     "data": {
      "image/png": "[encoded data removed]",
      "text/latex": [
       "$$x^{2} + 4 x y + 4 y^{2}$$"
      ],
      "text/plain": [
       " 2              2\n",
       "x  + 4⋅x⋅y + 4⋅y "
      ]
     },
     "execution_count": 8,
     "metadata": {},
     "output_type": "execute_result"
    }
   ],
   "source": [
    "print(\"example 4. expand (x + 2y)^2\")\n",
    "expand((x + 2*y)**2)"
   ]
  },
  {
   "cell_type": "code",
   "execution_count": 61,
   "metadata": {},
   "outputs": [
    {
     "name": "stdout",
     "output_type": "stream",
     "text": [
      "example 5.  find the derivative of 4x^3 + 5\n"
     ]
    },
    {
     "data": {
      "image/png": "[encoded data removed]",
      "text/latex": [
       "$$12 x^{2} + 5$$"
      ],
      "text/plain": [
       "    2    \n",
       "12⋅x  + 5"
      ]
     },
     "execution_count": 61,
     "metadata": {},
     "output_type": "execute_result"
    }
   ],
   "source": [
    "print(\"example 5.  find the derivative of 4x^3 + 5\")\n",
    "diff(4*x**3 + 5*x, x)"
   ]
  },
  {
   "cell_type": "markdown",
   "metadata": {},
   "source": [
    "Unfortunately, the input of an \"complicated\" equation (see example 3, above) requires that you use multiple / nesting parenthesis and there is no feature to enter your equation in a more \"natural\" form; i.e. can't use e.g. superscript for exponents, derivative notation, or a fraction ,where you can easily recognize the numerator and demominator.\n",
    "\n",
    "<font color=\"red\"><i>exercise 6. </i></font> Based on the preceding examples, solve\n",
    "\n",
    "$$2.7 * 10^{-5} = \\frac{x^{2}}{0.1-x}$$<p>\n",
    "$$25=100 e^{^{-0.002t}}$$\n",
    "\n",
    "using Python and round your answer to 5 digits; use the below empty cell to enter your Python code. \n",
    "\n",
    "In your answer, clearly identify which problem you are solving and the Python code used to get your answer.  While using the Anaconda installation will have the appropriate package / library, the school installation might not have the appropriate package / library, in which case, you'll have to integrate your math knowledge to provide an approximation and include a comment in your code in this sitution."
   ]
  },
  {
   "cell_type": "code",
   "execution_count": null,
   "metadata": {},
   "outputs": [],
   "source": []
  },
  {
   "cell_type": "markdown",
   "metadata": {},
   "source": [
    "<b>matplotlib:  a plotting package / library </b><p>\n",
    "&nbsp;&nbsp;&nbsp; generate a scatter plot\n",
    "    \n",
    "An example of a Python code to generate a scatter plot is shown in the below cell using various <a href=\"https://matplotlib.org/2.0.2/api/pyplot_summary.html\">features</a> in matplotlib."
   ]
  },
  {
   "cell_type": "code",
   "execution_count": 63,
   "metadata": {},
   "outputs": [
    {
     "data": {
      "image/png": "[encoded data removed]",
      "text/plain": [
       "<Figure size 432x288 with 1 Axes>"
      ]
     },
     "metadata": {
      "needs_background": "light"
     },
     "output_type": "display_data"
    }
   ],
   "source": [
    "import matplotlib.pyplot as plt\n",
    "\n",
    "# data for y = x^2\n",
    "x_values=[2,4,6,8,10]\n",
    "y_values=[4,16,36,64,100]\n",
    "\n",
    "plt.scatter(x_values,y_values, marker=\"x\")\n",
    "\n",
    "plt.xlim(0,11)                                   # set x-axis range\n",
    "plt.ylim(-10,110)                                # set y-axis range\n",
    "\n",
    "plt.xlabel(\"x-axis\", fontsize=25)                # label x-axis title & its font size\n",
    "plt.ylabel(\"y-axis\")                             # label y-axis title\n",
    "\n",
    "plt.tick_params(labelsize=5)                     # set axis number font size\n",
    "\n",
    "plt.title(\"test graph\")                          # set graph title\n",
    "\n",
    "plt.show()                                       # show plot"
   ]
  },
  {
   "attachments": {
    "image.png": {
     "image/png": "[encoded data removed]"
    }
   },
   "cell_type": "markdown",
   "metadata": {},
   "source": [
    "<font color=\"red\"><i>exercise 7. </i></font>  Based on the preceding example, use the below empty cell to generate a scatter plot \n",
    "\n",
    "![image.png](attachment:image.png)\n",
    "\n",
    "for the square root function and reproduce the plot in this cell in terms of the relative size of the axis label, axis font size, plot symbol, plot title, and numeric range on both axis."
   ]
  },
  {
   "cell_type": "code",
   "execution_count": null,
   "metadata": {},
   "outputs": [],
   "source": []
  },
  {
   "cell_type": "markdown",
   "metadata": {},
   "source": [
    "<b>use multiple packages / other</b><p>\n",
    "&nbsp;&nbsp;&nbsp; linear regression: show data & best-fit line (use scipy, <a href=\"http://www.numpy.org/\">numpy</a>, & matlablib)<p>\n",
    "&nbsp;&nbsp;&nbsp; transform data, then plot  (use matlablib & numpy)<p>\n",
    "&nbsp;&nbsp;&nbsp; mean & SD (use <a href=\"https://docs.python.org/3/library/statistics.html\">statistics</a>)<p>\n",
    "    \n",
    "The below cells illustrate using multiple Python packages / libraries.\n",
    "\n",
    "While using the Anaconda installation will have the appropriate package / library, the school installation might not have the appropriate package / library, in which case, you'll have to integrate your math knowledge to provide an algorithm and include a comment in your code in this sitution."
   ]
  },
  {
   "cell_type": "code",
   "execution_count": 80,
   "metadata": {},
   "outputs": [
    {
     "name": "stdout",
     "output_type": "stream",
     "text": [
      "r-squared: 0.9895877009084557\n",
      "slope =  2.38\n",
      "y-intercept =  4.550000000000001\n"
     ]
    },
    {
     "data": {
      "image/png": "[encoded data removed]",
      "text/plain": [
       "<Figure size 432x288 with 1 Axes>"
      ]
     },
     "metadata": {
      "needs_background": "light"
     },
     "output_type": "display_data"
    }
   ],
   "source": [
    "# do linear regression; show data points & best-fit line\n",
    "\n",
    "import matplotlib.pyplot as plt\n",
    "from scipy import stats\n",
    "import numpy as np\n",
    "\n",
    "x = [1,2,3,4]\n",
    "y = [7.1,8.9,12,14]\n",
    "\n",
    "slope, intercept, r_value, p_value, std_err = stats.linregress(x, y)   # get value of command output\n",
    "\n",
    "print(\"r-squared:\", r_value**2)\n",
    "print(\"slope = \", slope)\n",
    "print(\"y-intercept = \", intercept)\n",
    "\n",
    "plt.scatter(x, y)                                     # generates scatter plot\n",
    "plt.plot(x, intercept + slope*(np.float_(x)))         # generate best-fit line based on regression analysis\n",
    "\n",
    "plt.show()                                            # show / generate plot\n",
    "\n",
    "# references: \n",
    "#    https://medium.freecodecamp.org/data-science-with-python-8-ways-to-do-linear-regression-and-measure-their-speed-b5577d75f8b\n",
    "#    https://stackoverflow.com/questions/1614236/in-python-how-do-i-convert-all-of-the-items-in-a-list-to-floats\n",
    "\n",
    "# to fit to y = mx (rather than y = mx + b), see:  \n",
    "#    https://stats.stackexchange.com/questions/102709/when-forcing-intercept-of-0-in-linear-regression-is-acceptable-advisable"
   ]
  },
  {
   "cell_type": "markdown",
   "metadata": {},
   "source": [
    "<font color=\"red\"><i>excercise 8.</i></font>  Based on the above Python code, using the below empty cell, generate a scatter plot for the function\n",
    "\n",
    "&nbsp; &nbsp; y = 5x + 10\n",
    "\n",
    "include its corresponding best-fit line (where the r-squared value < 1.0) on the graph and round the output of the value for the slope, y-intercept, and r^2 value to 4 digits."
   ]
  },
  {
   "cell_type": "code",
   "execution_count": null,
   "metadata": {},
   "outputs": [],
   "source": []
  },
  {
   "cell_type": "code",
   "execution_count": 84,
   "metadata": {},
   "outputs": [
    {
     "name": "stdout",
     "output_type": "stream",
     "text": [
      "graph of y = x^2\n"
     ]
    },
    {
     "data": {
      "image/png": "[encoded data removed]",
      "text/plain": [
       "<Figure size 432x288 with 1 Axes>"
      ]
     },
     "metadata": {
      "needs_background": "light"
     },
     "output_type": "display_data"
    }
   ],
   "source": [
    "# transform data, then plot\n",
    "\n",
    "import numpy as np\n",
    "import matplotlib.pyplot as plt\n",
    "\n",
    "sample = [1,3,5,7,8,10]\n",
    "y=(np.float_(sample))**2                   # convert from 'string' to (floating point) 'number'; otherwise, error\n",
    "\n",
    "print(\"graph of y = x^2\")                  # generate graph title\n",
    "\n",
    "plt.scatter(sample,y)                      # generate scatter plot\n",
    "plt.show()                                 # show scatter plot"
   ]
  },
  {
   "cell_type": "markdown",
   "metadata": {},
   "source": [
    "<font color=\"red\"><i>exercise 9.</i></font>  Based on the above Python code, using the below empty cell, generate a graph, where the data is transform to its \n",
    "\n",
    "&nbsp;&nbsp;&nbsp; recipricol; i.e. plot:  y = 1/x<p> \n",
    "&nbsp;&nbsp;&nbsp; log (base 10); i.e. plot:  y = log (x)\n",
    "\n",
    "and add a title to describe the graph."
   ]
  },
  {
   "cell_type": "code",
   "execution_count": null,
   "metadata": {},
   "outputs": [],
   "source": []
  },
  {
   "cell_type": "code",
   "execution_count": 163,
   "metadata": {},
   "outputs": [
    {
     "name": "stdout",
     "output_type": "stream",
     "text": [
      "data entered; sample =  [1, 3, 6]\n",
      "\n",
      "\tmean = 3.333\n",
      "\tsd = 2.517\n"
     ]
    }
   ],
   "source": [
    "# find mean and standard deviation of sample\n",
    "\n",
    "from statistics import *\n",
    "\n",
    "sample = [1,3,6]\n",
    "\n",
    "x=round(mean(sample),3)                           # note use of truncating digits in answer\n",
    "sd=round(stdev(sample),3)\n",
    "\n",
    "print(\"data entered; sample = \", sample)\n",
    "print()\n",
    "print(\"\\tmean =\",x)                                # note use of 'tab' command\n",
    "print(\"\\tsd =\", sd)\n",
    "\n",
    "# resource:  \n",
    "# https://docs.python.org/3/library/statistics.html\n",
    "# https://gist.github.com/jackiekazil/6201722"
   ]
  },
  {
   "attachments": {
    "image.png": {
     "image/png": "[encoded data removed]"
    }
   },
   "cell_type": "markdown",
   "metadata": {},
   "source": [
    "<font color=\"red\"><i>excerise 10.</i></font>  Based on the above Python code, use the below empty cell to generate \n",
    "\n",
    "&nbsp;&nbsp;&nbsp; a data table with two columns of data<p> \n",
    "&nbsp;&nbsp;&nbsp; its corresponding mean and standard deviation<p>\n",
    "&nbsp;&nbsp;&nbsp; compare the results of analyzing the two groups of data with the 1- sample t-test<p>\n",
    "    \n",
    "Label \n",
    "\n",
    "&nbsp;&nbsp;&nbsp; columns of data as \"control\" and \"experimental\"<p>\n",
    "&nbsp;&nbsp;&nbsp; corresponding value of its mean and SD<p>\n",
    "&nbsp;&nbsp;&nbsp; p-value of the t-test<p>\n",
    "    \n",
    "The data to be used is shown below; analysis done using Mathematica<p>\n",
    "\n",
    "![image.png](attachment:image.png)\n"
   ]
  },
  {
   "cell_type": "code",
   "execution_count": null,
   "metadata": {},
   "outputs": [],
   "source": []
  },
  {
   "cell_type": "markdown",
   "metadata": {},
   "source": [
    "https://jupyter-contrib-nbextensions.readthedocs.io/en/latest/nbextensions/collapsible_headings/readme.html"
   ]
  }
 ],
 "metadata": {
  "kernelspec": {
   "display_name": "Python 3",
   "language": "python",
   "name": "python3"
  },
  "language_info": {
   "codemirror_mode": {
    "name": "ipython",
    "version": 3
   },
   "file_extension": ".py",
   "mimetype": "text/x-python",
   "name": "python",
   "nbconvert_exporter": "python",
   "pygments_lexer": "ipython3",
   "version": "3.7.0"
  }
 },
 "nbformat": 4,
 "nbformat_minor": 2
}
